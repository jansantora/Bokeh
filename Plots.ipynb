{
 "cells": [
  {
   "cell_type": "code",
   "execution_count": 1,
   "metadata": {},
   "outputs": [
    {
     "name": "stdout",
     "output_type": "stream",
     "text": [
      "C:\\Users\\jan.santora\\Dearman Engine Company Ltd\\Core Systems - Documents\\SimulationAndAnalysis\\Test\\ETR\\ETR-271-PistonSealDevelopment-BeddingIn+SealAlloc_PVX\n"
     ]
    }
   ],
   "source": [
    "cd \"C:\\Users\\jan.santora\\Dearman Engine Company Ltd\\Core Systems - Documents\\SimulationAndAnalysis\\Test\\ETR\\ETR-271-PistonSealDevelopment-BeddingIn+SealAlloc_PVX\\\""
   ]
  },
  {
   "cell_type": "code",
   "execution_count": 2,
   "metadata": {},
   "outputs": [],
   "source": [
    "import pandas as pd\n",
    "import numpy as np\n",
    "import matplotlib.pyplot as plt\n",
    "from sklearn import datasets, linear_model\n",
    "from matplotlib.pyplot import figure\n",
    "\n",
    "from bokeh.io import show, output_file\n",
    "from bokeh.plotting import figure\n",
    "from bokeh.models import CustomJS\n",
    "#figure(num=None, figsize=(18, 16), dpi=80, facecolor='w', edgecolor='k')\n",
    "%matplotlib inline"
   ]
  },
  {
   "cell_type": "code",
   "execution_count": 3,
   "metadata": {},
   "outputs": [],
   "source": [
    "df = pd.read_excel('ETR0271_Data.xlsx','Sheet1')"
   ]
  },
  {
   "cell_type": "code",
   "execution_count": 4,
   "metadata": {},
   "outputs": [
    {
     "data": {
      "text/plain": [
       "Index(['Part', 'Date ', 'Test run', 'Pressure', 'Engine Speed', 'Run Time',\n",
       "       'Run time (hrs)', 'Scavenge Volume', 'Scavenge Rate',\n",
       "       'Dyno Power avrg'],\n",
       "      dtype='object')"
      ]
     },
     "execution_count": 4,
     "metadata": {},
     "output_type": "execute_result"
    }
   ],
   "source": [
    "df.columns"
   ]
  },
  {
   "cell_type": "code",
   "execution_count": 5,
   "metadata": {
    "scrolled": true
   },
   "outputs": [
    {
     "data": {
      "text/plain": [
       "<matplotlib.axes._subplots.AxesSubplot at 0xba9ac93a58>"
      ]
     },
     "execution_count": 5,
     "metadata": {},
     "output_type": "execute_result"
    },
    {
     "data": {
      "image/png": "[encoded data removed]",
      "text/plain": [
       "<Figure size 1152x720 with 1 Axes>"
      ]
     },
     "metadata": {},
     "output_type": "display_data"
    }
   ],
   "source": [
    "df.plot.scatter(x = 'Scavenge Rate', y ='Dyno Power avrg', figsize = (16,10))"
   ]
  },
  {
   "cell_type": "code",
   "execution_count": 6,
   "metadata": {},
   "outputs": [
    {
     "data": {
      "text/html": [
       "<div>\n",
       "<style scoped>\n",
       "    .dataframe tbody tr th:only-of-type {\n",
       "        vertical-align: middle;\n",
       "    }\n",
       "\n",
       "    .dataframe tbody tr th {\n",
       "        vertical-align: top;\n",
       "    }\n",
       "\n",
       "    .dataframe thead th {\n",
       "        text-align: right;\n",
       "    }\n",
       "</style>\n",
       "<table border=\"1\" class=\"dataframe\">\n",
       "  <thead>\n",
       "    <tr style=\"text-align: right;\">\n",
       "      <th></th>\n",
       "      <th>Part</th>\n",
       "      <th>Date</th>\n",
       "      <th>Test run</th>\n",
       "      <th>Pressure</th>\n",
       "      <th>Engine Speed</th>\n",
       "      <th>Run Time</th>\n",
       "      <th>Run time (hrs)</th>\n",
       "      <th>Scavenge Volume</th>\n",
       "      <th>Scavenge Rate</th>\n",
       "      <th>Dyno Power avrg</th>\n",
       "    </tr>\n",
       "  </thead>\n",
       "  <tbody>\n",
       "    <tr>\n",
       "      <th>0</th>\n",
       "      <td>Part 3</td>\n",
       "      <td>2018-08-01</td>\n",
       "      <td>2661.0</td>\n",
       "      <td>37.5</td>\n",
       "      <td>800</td>\n",
       "      <td>14.0</td>\n",
       "      <td>0.233333</td>\n",
       "      <td>NaN</td>\n",
       "      <td>NaN</td>\n",
       "      <td>3.583333</td>\n",
       "    </tr>\n",
       "    <tr>\n",
       "      <th>1</th>\n",
       "      <td>NaN</td>\n",
       "      <td>2018-08-01</td>\n",
       "      <td>2662.0</td>\n",
       "      <td>30.0</td>\n",
       "      <td>800</td>\n",
       "      <td>6.0</td>\n",
       "      <td>0.100000</td>\n",
       "      <td>NaN</td>\n",
       "      <td>NaN</td>\n",
       "      <td>2.681667</td>\n",
       "    </tr>\n",
       "    <tr>\n",
       "      <th>2</th>\n",
       "      <td>NaN</td>\n",
       "      <td>2018-08-01</td>\n",
       "      <td>2663.0</td>\n",
       "      <td>45.0</td>\n",
       "      <td>800</td>\n",
       "      <td>8.0</td>\n",
       "      <td>0.133333</td>\n",
       "      <td>NaN</td>\n",
       "      <td>NaN</td>\n",
       "      <td>4.496667</td>\n",
       "    </tr>\n",
       "    <tr>\n",
       "      <th>3</th>\n",
       "      <td>NaN</td>\n",
       "      <td>2018-08-01</td>\n",
       "      <td>2664.0</td>\n",
       "      <td>37.5</td>\n",
       "      <td>800</td>\n",
       "      <td>4.0</td>\n",
       "      <td>0.066667</td>\n",
       "      <td>5130.0</td>\n",
       "      <td>9618.75</td>\n",
       "      <td>3.583333</td>\n",
       "    </tr>\n",
       "    <tr>\n",
       "      <th>12</th>\n",
       "      <td>Part 4</td>\n",
       "      <td>2018-08-06</td>\n",
       "      <td>2678.0</td>\n",
       "      <td>37.5</td>\n",
       "      <td>800</td>\n",
       "      <td>10.5</td>\n",
       "      <td>0.175000</td>\n",
       "      <td>NaN</td>\n",
       "      <td>NaN</td>\n",
       "      <td>3.591667</td>\n",
       "    </tr>\n",
       "  </tbody>\n",
       "</table>\n",
       "</div>"
      ],
      "text/plain": [
       "      Part      Date   Test run  Pressure  Engine Speed  Run Time  \\\n",
       "0   Part 3 2018-08-01    2661.0      37.5           800      14.0   \n",
       "1      NaN 2018-08-01    2662.0      30.0           800       6.0   \n",
       "2      NaN 2018-08-01    2663.0      45.0           800       8.0   \n",
       "3      NaN 2018-08-01    2664.0      37.5           800       4.0   \n",
       "12  Part 4 2018-08-06    2678.0      37.5           800      10.5   \n",
       "\n",
       "    Run time (hrs)  Scavenge Volume  Scavenge Rate  Dyno Power avrg  \n",
       "0         0.233333              NaN            NaN         3.583333  \n",
       "1         0.100000              NaN            NaN         2.681667  \n",
       "2         0.133333              NaN            NaN         4.496667  \n",
       "3         0.066667           5130.0        9618.75         3.583333  \n",
       "12        0.175000              NaN            NaN         3.591667  "
      ]
     },
     "execution_count": 6,
     "metadata": {},
     "output_type": "execute_result"
    }
   ],
   "source": [
    "slow_rpm=df[df['Engine Speed'] == 800]\n",
    "med_rpm=df[df['Engine Speed'] == 900]\n",
    "fast_rpm = df[df['Engine Speed'] == 1000]\n",
    "\n",
    "slow_rpm.head()"
   ]
  },
  {
   "cell_type": "code",
   "execution_count": 7,
   "metadata": {},
   "outputs": [],
   "source": [
    "output_file(\"Scavenge Rate.html\")\n",
    "\n",
    "\n",
    "p=figure(plot_height=1000,plot_width=1500)\n",
    "p.circle(x =slow_rpm['Scavenge Rate'], y=slow_rpm['Dyno Power avrg'], size=10, color=\"navy\", alpha = 0.5, legend=\"800 RPM\")\n",
    "p.circle(x =med_rpm['Scavenge Rate'], y=med_rpm['Dyno Power avrg'], size=10, color=\"green\", alpha = 0.5, legend=\"900 RPM\")\n",
    "p.circle(x =fast_rpm['Scavenge Rate'], y=fast_rpm['Dyno Power avrg'], size=10, color=\"red\", alpha = 0.5, legend=\"1000 RPM\")\n",
    "p.xaxis.axis_label=\"Scavenge Rate [L/hr]\"\n",
    "p.yaxis.axis_label=\"Power [kW]\"\n",
    "\n",
    "p.legend.location = \"top_left\"\n",
    "p.title.align = \"center\"\n",
    "p.title.text = \"Power is at 37.5 bar\"\n",
    "show(p)"
   ]
  },
  {
   "cell_type": "code",
   "execution_count": 8,
   "metadata": {
    "scrolled": true
   },
   "outputs": [],
   "source": [
    "df.loc[0:11,'Part'] = \"Part 3\"\n",
    "df.loc[12:23,'Part'] =\"Part 4\"\n",
    "df.loc[24:36,'Part'] = \"Part 5\"\n",
    "df.loc[37:48,'Part'] = \"Part 6\"\n",
    "df.loc[49:60,'Part'] = \"Part 7\""
   ]
  },
  {
   "cell_type": "code",
   "execution_count": 9,
   "metadata": {},
   "outputs": [],
   "source": [
    "part_three = df[df['Part'] == \"Part 3\"]\n",
    "part_four =df[df['Part'] ==\"Part 4\"]\n",
    "part_five =df[df['Part'] ==\"Part 5\"]\n",
    "part_six =df[df['Part'] ==\"Part 6\"]\n",
    "part_seven =df[df['Part'] ==\"Part 7\"]"
   ]
  },
  {
   "cell_type": "raw",
   "metadata": {},
   "source": [
    "index = range(len(df))\n",
    "index"
   ]
  },
  {
   "cell_type": "raw",
   "metadata": {},
   "source": [
    "df.loc[0:3, 'Scavenge Rate'] = df.loc[3,'Scavenge Rate']\n",
    "df.loc[4:7, 'Scavenge Rate'] = df.loc[7,'Scavenge Rate']\n",
    "df.loc[8:11, 'Scavenge Rate'] = df.loc[11,'Scavenge Rate']\n",
    "df.loc[12:15, 'Scavenge Rate'] = df.loc[15,'Scavenge Rate']\n",
    "df.loc[16:19, 'Scavenge Rate'] = df.loc[19,'Scavenge Rate']\n",
    "df.loc[20:23, 'Scavenge Rate'] = df.loc[23,'Scavenge Rate']\n",
    "df.loc[24:27, 'Scavenge Rate'] = df.loc[27,'Scavenge Rate']\n",
    "df.loc[28:31, 'Scavenge Rate'] = df.loc[31,'Scavenge Rate']\n",
    "df.loc[12:15, 'Scavenge Rate'] = df.loc[15,'Scavenge Rate']"
   ]
  },
  {
   "cell_type": "code",
   "execution_count": 10,
   "metadata": {},
   "outputs": [
    {
     "data": {
      "text/html": [
       "<div>\n",
       "<style scoped>\n",
       "    .dataframe tbody tr th:only-of-type {\n",
       "        vertical-align: middle;\n",
       "    }\n",
       "\n",
       "    .dataframe tbody tr th {\n",
       "        vertical-align: top;\n",
       "    }\n",
       "\n",
       "    .dataframe thead th {\n",
       "        text-align: right;\n",
       "    }\n",
       "</style>\n",
       "<table border=\"1\" class=\"dataframe\">\n",
       "  <thead>\n",
       "    <tr style=\"text-align: right;\">\n",
       "      <th></th>\n",
       "      <th>Part</th>\n",
       "      <th>Date</th>\n",
       "      <th>Test run</th>\n",
       "      <th>Pressure</th>\n",
       "      <th>Engine Speed</th>\n",
       "      <th>Run Time</th>\n",
       "      <th>Run time (hrs)</th>\n",
       "      <th>Scavenge Volume</th>\n",
       "      <th>Scavenge Rate</th>\n",
       "      <th>Dyno Power avrg</th>\n",
       "    </tr>\n",
       "  </thead>\n",
       "  <tbody>\n",
       "    <tr>\n",
       "      <th>0</th>\n",
       "      <td>Part 3</td>\n",
       "      <td>2018-08-01</td>\n",
       "      <td>2661.0</td>\n",
       "      <td>37.5</td>\n",
       "      <td>800</td>\n",
       "      <td>14.0</td>\n",
       "      <td>0.233333</td>\n",
       "      <td>NaN</td>\n",
       "      <td>NaN</td>\n",
       "      <td>3.583333</td>\n",
       "    </tr>\n",
       "    <tr>\n",
       "      <th>1</th>\n",
       "      <td>Part 3</td>\n",
       "      <td>2018-08-01</td>\n",
       "      <td>2662.0</td>\n",
       "      <td>30.0</td>\n",
       "      <td>800</td>\n",
       "      <td>6.0</td>\n",
       "      <td>0.100000</td>\n",
       "      <td>NaN</td>\n",
       "      <td>NaN</td>\n",
       "      <td>2.681667</td>\n",
       "    </tr>\n",
       "    <tr>\n",
       "      <th>2</th>\n",
       "      <td>Part 3</td>\n",
       "      <td>2018-08-01</td>\n",
       "      <td>2663.0</td>\n",
       "      <td>45.0</td>\n",
       "      <td>800</td>\n",
       "      <td>8.0</td>\n",
       "      <td>0.133333</td>\n",
       "      <td>NaN</td>\n",
       "      <td>NaN</td>\n",
       "      <td>4.496667</td>\n",
       "    </tr>\n",
       "    <tr>\n",
       "      <th>3</th>\n",
       "      <td>Part 3</td>\n",
       "      <td>2018-08-01</td>\n",
       "      <td>2664.0</td>\n",
       "      <td>37.5</td>\n",
       "      <td>800</td>\n",
       "      <td>4.0</td>\n",
       "      <td>0.066667</td>\n",
       "      <td>5130.0</td>\n",
       "      <td>9618.75</td>\n",
       "      <td>3.583333</td>\n",
       "    </tr>\n",
       "    <tr>\n",
       "      <th>4</th>\n",
       "      <td>Part 3</td>\n",
       "      <td>2018-08-01</td>\n",
       "      <td>2665.0</td>\n",
       "      <td>37.5</td>\n",
       "      <td>900</td>\n",
       "      <td>6.1</td>\n",
       "      <td>0.101667</td>\n",
       "      <td>NaN</td>\n",
       "      <td>NaN</td>\n",
       "      <td>3.823333</td>\n",
       "    </tr>\n",
       "  </tbody>\n",
       "</table>\n",
       "</div>"
      ],
      "text/plain": [
       "     Part      Date   Test run  Pressure  Engine Speed  Run Time  \\\n",
       "0  Part 3 2018-08-01    2661.0      37.5           800      14.0   \n",
       "1  Part 3 2018-08-01    2662.0      30.0           800       6.0   \n",
       "2  Part 3 2018-08-01    2663.0      45.0           800       8.0   \n",
       "3  Part 3 2018-08-01    2664.0      37.5           800       4.0   \n",
       "4  Part 3 2018-08-01    2665.0      37.5           900       6.1   \n",
       "\n",
       "   Run time (hrs)  Scavenge Volume  Scavenge Rate  Dyno Power avrg  \n",
       "0        0.233333              NaN            NaN         3.583333  \n",
       "1        0.100000              NaN            NaN         2.681667  \n",
       "2        0.133333              NaN            NaN         4.496667  \n",
       "3        0.066667           5130.0        9618.75         3.583333  \n",
       "4        0.101667              NaN            NaN         3.823333  "
      ]
     },
     "execution_count": 10,
     "metadata": {},
     "output_type": "execute_result"
    }
   ],
   "source": [
    "df.head()"
   ]
  },
  {
   "cell_type": "code",
   "execution_count": 11,
   "metadata": {},
   "outputs": [],
   "source": [
    "output_file(\"Parts.html\")\n",
    "\n",
    "p=figure(plot_height=1000,plot_width=1500)\n",
    "p.circle(x=part_three['Scavenge Rate'], y=part_three['Dyno Power avrg'], size=10, color =\"navy\", alpha=0.5, legend=\"Part 3\")\n",
    "p.circle(x=part_four['Scavenge Rate'], y=part_four['Dyno Power avrg'], size=10, color =\"green\", alpha=0.5, legend=\"Part 4\")\n",
    "p.circle(x=part_five['Scavenge Rate'], y=part_five['Dyno Power avrg'], size=10, color =\"red\", alpha=0.5, legend=\"Part 5\")\n",
    "p.circle(x=part_six['Scavenge Rate'], y=part_six['Dyno Power avrg'], size=10, color =\"cyan\", alpha=0.5, legend=\"Part 6\")\n",
    "p.xaxis.axis_label=\"Scavenge Rate [L/hr]\"\n",
    "p.yaxis.axis_label=\"Power [kW]\"\n",
    "\n",
    "p.legend.location = \"top_left\"\n",
    "p.title.align = \"center\"\n",
    "p.title.text = \"Power is at 37.5 bar\"\n",
    "\n",
    "show(p)"
   ]
  },
  {
   "cell_type": "code",
   "execution_count": 52,
   "metadata": {},
   "outputs": [],
   "source": [
    "from bokeh.models.widgets import Panel, Tabs\n",
    "\n",
    "scav_rate=df['Scavenge Rate']\n",
    "dyno_power = df['Dyno Power avrg']\n",
    "\n",
    "p1=figure(plot_height=1200,plot_width=2000)\n",
    "p1.circle(x =slow_rpm['Scavenge Rate'], y=slow_rpm['Dyno Power avrg'], size=10, color=\"navy\", alpha = 0.5, legend=\"800 RPM\")\n",
    "p1.circle(x =med_rpm['Scavenge Rate'], y=med_rpm['Dyno Power avrg'], size=10, color=\"green\", alpha = 0.5, legend=\"900 RPM\")\n",
    "p1.circle(x =fast_rpm['Scavenge Rate'], y=fast_rpm['Dyno Power avrg'], size=10, color=\"red\", alpha = 0.5, legend=\"1000 RPM\")\n",
    "p1.xaxis.axis_label=\"Scavenge Rate [L/hr]\"\n",
    "p1.yaxis.axis_label=\"Power [kW]\"\n",
    "\n",
    "p1.legend.location = \"top_left\"\n",
    "p1.title.align = \"center\"\n",
    "p1.title.text = \"Power is at 37.5 bar, Scavege rate is measured after all pressure sweeps within one speed\"\n",
    "\n",
    "tab1 = Panel(child=p1, title=\"Speeds\")\n",
    "\n",
    "\n",
    "p2=figure(plot_height=1200,plot_width=2000)\n",
    "p2.circle(x=part_three['Scavenge Rate'], y=part_three['Dyno Power avrg'], size=10, color =\"navy\", alpha=0.5, legend=\"Part 3\")\n",
    "p2.circle(x=part_four['Scavenge Rate'], y=part_four['Dyno Power avrg'], size=10, color =\"green\", alpha=0.5, legend=\"Part 4\")\n",
    "p2.circle(x=part_five['Scavenge Rate'], y=part_five['Dyno Power avrg'], size=10, color =\"red\", alpha=0.5, legend=\"Part 5\")\n",
    "p2.circle(x=part_six['Scavenge Rate'], y=part_six['Dyno Power avrg'], size=10, color =\"cyan\", alpha=0.5, legend=\"Part 6\")\n",
    "p2.xaxis.axis_label=\"Scavenge Rate [L/hr]\"\n",
    "p2.yaxis.axis_label=\"Power [kW]\"\n",
    "\n",
    "p2.legend.location = \"top_left\"\n",
    "p2.title.align = \"center\"\n",
    "p2.title.text = \"Power is at 37.5 bar, Scavege rate is measured after all pressure sweeps within one speed\"\n",
    "tab2 = Panel(child=p2, title=\"Parts\")\n",
    "\n",
    "tabs = Tabs(tabs=[ tab1, tab2 ])\n",
    "\n",
    "show(tabs)"
   ]
  },
  {
   "cell_type": "code",
   "execution_count": 45,
   "metadata": {},
   "outputs": [
    {
     "data": {
      "text/html": [
       "<div>\n",
       "<style scoped>\n",
       "    .dataframe tbody tr th:only-of-type {\n",
       "        vertical-align: middle;\n",
       "    }\n",
       "\n",
       "    .dataframe tbody tr th {\n",
       "        vertical-align: top;\n",
       "    }\n",
       "\n",
       "    .dataframe thead th {\n",
       "        text-align: right;\n",
       "    }\n",
       "</style>\n",
       "<table border=\"1\" class=\"dataframe\">\n",
       "  <thead>\n",
       "    <tr style=\"text-align: right;\">\n",
       "      <th></th>\n",
       "      <th>Part</th>\n",
       "      <th>Date</th>\n",
       "      <th>Test run</th>\n",
       "      <th>Pressure</th>\n",
       "      <th>Engine Speed</th>\n",
       "      <th>Run Time</th>\n",
       "      <th>Run time (hrs)</th>\n",
       "      <th>Scavenge Volume</th>\n",
       "      <th>Scavenge Rate</th>\n",
       "      <th>Dyno Power avrg</th>\n",
       "    </tr>\n",
       "  </thead>\n",
       "  <tbody>\n",
       "    <tr>\n",
       "      <th>3</th>\n",
       "      <td>Part 3</td>\n",
       "      <td>2018-08-01</td>\n",
       "      <td>2664.0</td>\n",
       "      <td>37.5</td>\n",
       "      <td>800</td>\n",
       "      <td>4.0</td>\n",
       "      <td>0.066667</td>\n",
       "      <td>5130.0</td>\n",
       "      <td>9618.750000</td>\n",
       "      <td>3.583333</td>\n",
       "    </tr>\n",
       "    <tr>\n",
       "      <th>15</th>\n",
       "      <td>Part 4</td>\n",
       "      <td>2018-08-06</td>\n",
       "      <td>2682.0</td>\n",
       "      <td>37.5</td>\n",
       "      <td>800</td>\n",
       "      <td>5.8</td>\n",
       "      <td>0.096667</td>\n",
       "      <td>4650.0</td>\n",
       "      <td>8278.931751</td>\n",
       "      <td>3.598333</td>\n",
       "    </tr>\n",
       "    <tr>\n",
       "      <th>27</th>\n",
       "      <td>Part 5</td>\n",
       "      <td>2018-08-08</td>\n",
       "      <td>2694.0</td>\n",
       "      <td>37.5</td>\n",
       "      <td>800</td>\n",
       "      <td>3.2</td>\n",
       "      <td>0.053333</td>\n",
       "      <td>4090.0</td>\n",
       "      <td>4429.602888</td>\n",
       "      <td>3.578333</td>\n",
       "    </tr>\n",
       "    <tr>\n",
       "      <th>40</th>\n",
       "      <td>Part 6</td>\n",
       "      <td>2018-08-09</td>\n",
       "      <td>2709.0</td>\n",
       "      <td>37.5</td>\n",
       "      <td>800</td>\n",
       "      <td>9.9</td>\n",
       "      <td>0.165000</td>\n",
       "      <td>4900.0</td>\n",
       "      <td>5578.747628</td>\n",
       "      <td>3.563333</td>\n",
       "    </tr>\n",
       "  </tbody>\n",
       "</table>\n",
       "</div>"
      ],
      "text/plain": [
       "      Part      Date   Test run  Pressure  Engine Speed  Run Time  \\\n",
       "3   Part 3 2018-08-01    2664.0      37.5           800       4.0   \n",
       "15  Part 4 2018-08-06    2682.0      37.5           800       5.8   \n",
       "27  Part 5 2018-08-08    2694.0      37.5           800       3.2   \n",
       "40  Part 6 2018-08-09    2709.0      37.5           800       9.9   \n",
       "\n",
       "    Run time (hrs)  Scavenge Volume  Scavenge Rate  Dyno Power avrg  \n",
       "3         0.066667           5130.0    9618.750000         3.583333  \n",
       "15        0.096667           4650.0    8278.931751         3.598333  \n",
       "27        0.053333           4090.0    4429.602888         3.578333  \n",
       "40        0.165000           4900.0    5578.747628         3.563333  "
      ]
     },
     "execution_count": 45,
     "metadata": {},
     "output_type": "execute_result"
    }
   ],
   "source": [
    "scav_rate = df.dropna(subset = ['Scavenge Rate'])\n",
    "scav_rate_800 = scav_rate[scav_rate['Engine Speed'] ==800]\n",
    "scav_rate_800"
   ]
  },
  {
   "cell_type": "markdown",
   "metadata": {},
   "source": [
    "## 800, 900 and 1000 RPM and pressure 45 bar, scavenge rate vs Power"
   ]
  },
  {
   "cell_type": "code",
   "execution_count": 46,
   "metadata": {},
   "outputs": [],
   "source": [
    "power_800 = df[df['Engine Speed'] ==800]\n",
    "power_800_45 = power_800[power_800['Pressure'] == 45]\n",
    "power_800_45 = power_800_45.dropna(subset=['Part'])\n",
    "\n",
    "power_900 = df[df['Engine Speed'] ==900]\n",
    "power_900_45 = power_900[power_900['Pressure'] == 45]\n",
    "power_900_45 = power_900_45.dropna(subset=['Part'])\n",
    "\n",
    "power_1000 = df[df['Engine Speed'] ==1000]\n",
    "power_1000_45 = power_1000[power_1000['Pressure'] == 45]\n",
    "power_1000_45 = power_1000_45.dropna(subset=['Part'])\n",
    "\n",
    "\n",
    "\n"
   ]
  },
  {
   "cell_type": "markdown",
   "metadata": {},
   "source": [
    "## 30 bar"
   ]
  },
  {
   "cell_type": "code",
   "execution_count": 50,
   "metadata": {},
   "outputs": [],
   "source": [
    "power2_800 = df[df['Engine Speed'] ==800]\n",
    "power2_800_45 = power2_800[power_800['Pressure'] == 30]\n",
    "power2_800_45 = power2_800_45.dropna(subset=['Part'])\n",
    "\n",
    "power2_900 = df[df['Engine Speed'] ==900]\n",
    "power2_900_45 = power2_900[power_900['Pressure'] == 30]\n",
    "power2_900_45 = power2_900_45.dropna(subset=['Part'])\n",
    "\n",
    "power2_1000 = df[df['Engine Speed'] ==1000]\n",
    "power2_1000_45 = power2_1000[power_1000['Pressure'] == 30]\n",
    "power2_1000_45 = power2_1000_45.dropna(subset=['Part'])"
   ]
  },
  {
   "cell_type": "code",
   "execution_count": null,
   "metadata": {},
   "outputs": [],
   "source": []
  },
  {
   "cell_type": "code",
   "execution_count": 53,
   "metadata": {},
   "outputs": [],
   "source": [
    "output_file(\"Scavenge Rate_45bar.html\")\n",
    "\n",
    "\n",
    "p1=figure(plot_height=1000,plot_width=1500)\n",
    "p1.circle(x =scav_rate_800['Scavenge Rate'], y=power_800_45['Dyno Power avrg'], size=10, color=\"navy\", alpha = 0.5, legend=\"800 RPM\")\n",
    "p1.circle(x =scav_rate_800['Scavenge Rate'], y=power_900_45['Dyno Power avrg'], size=10, color=\"red\", alpha = 0.5, legend=\"900 RPM\")\n",
    "p1.circle(x =scav_rate_800['Scavenge Rate'], y=power_1000_45['Dyno Power avrg'], size=10, color=\"green\", alpha = 0.5, legend=\"1000 RPM\")\n",
    "p1.xaxis.axis_label=\"Scavenge Rate [L/hr]\"\n",
    "p1.yaxis.axis_label=\"Power [kW]\"\n",
    "\n",
    "p1.legend.location = \"top_right\"\n",
    "p1.title.align = \"center\"\n",
    "p1.title.text = \"Power is at 45 bar\"\n",
    "\n",
    "tab1 = Panel(child=p1, title=\"45bar\")\n",
    "\n",
    "p2=figure(plot_height=1000,plot_width=1500)\n",
    "p2.circle(x =scav_rate_800['Scavenge Rate'], y=power2_800_45['Dyno Power avrg'], size=10, color=\"navy\", alpha = 0.5, legend=\"800 RPM\")\n",
    "p2.circle(x =scav_rate_800['Scavenge Rate'], y=power2_900_45['Dyno Power avrg'], size=10, color=\"red\", alpha = 0.5, legend=\"900 RPM\")\n",
    "p2.circle(x =scav_rate_800['Scavenge Rate'], y=power2_1000_45['Dyno Power avrg'], size=10, color=\"green\", alpha = 0.5, legend=\"1000 RPM\")\n",
    "p2.xaxis.axis_label=\"Scavenge Rate [L/hr]\"\n",
    "p2.yaxis.axis_label=\"Power [kW]\"\n",
    "\n",
    "p2.legend.location = \"top_right\"\n",
    "p2.title.align = \"center\"\n",
    "p2.title.text = \"Power is at 30 bar\"\n",
    "tab2 = Panel(child=p2, title=\"30bar\")\n",
    "\n",
    "tabs = Tabs(tabs=[ tab1, tab2 ])\n",
    "\n",
    "show(tabs)"
   ]
  }
 ],
 "metadata": {
  "kernelspec": {
   "display_name": "Python 3",
   "language": "python",
   "name": "python3"
  },
  "language_info": {
   "codemirror_mode": {
    "name": "ipython",
    "version": 3
   },
   "file_extension": ".py",
   "mimetype": "text/x-python",
   "name": "python",
   "nbconvert_exporter": "python",
   "pygments_lexer": "ipython3",
   "version": "3.6.5"
  }
 },
 "nbformat": 4,
 "nbformat_minor": 2
}
